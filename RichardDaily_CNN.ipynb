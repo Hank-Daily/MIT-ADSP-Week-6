{
  "cells": [
    {
      "cell_type": "markdown",
      "metadata": {
        "id": "Q91KqmCRu64D"
      },
      "source": [
        "# **Project - Convolutional Neural Networks: Street View Housing Number Digit Recognition**\n",
        "\n",
        "# Marks: 30\n",
        "\n",
        "Welcome to the project on classification using Convolutional Neural Networks. We will continue to work with the Street View Housing Numbers (SVHN) image dataset for this project.\n",
        "\n",
        "--------------\n",
        "### **Context:** \n",
        "--------------\n",
        "\n",
        "One of the most interesting tasks in deep learning is to recognize objects in natural scenes. The ability to process visual information using machine learning algorithms can be very useful as demonstrated in various applications.\n",
        "\n",
        "The SVHN dataset contains over 600,000 labeled digits cropped from street-level photos. It is one of the most popular image recognition datasets. It has been used in neural networks created by Google to improve map quality by automatically transcribing the address numbers from a patch of pixels. The transcribed number with a known street address helps pinpoint the location of the building it represents. \n",
        "\n",
        "----------------\n",
        "### **Objective:**\n",
        "----------------\n",
        "\n",
        "Build a CNN model that can identify the digits in the images.\n",
        "\n",
        "-------------\n",
        "### **Dataset**\n",
        "-------------\n",
        "Here, we will use a subset of the original data to save some computation time. The dataset is provided as a .h5 file. The basic preprocessing steps have been done."
      ]
    },
    {
      "cell_type": "markdown",
      "metadata": {
        "id": "8z2Z7-OAs8QG"
      },
      "source": [
        "## **Mount the drive**\n",
        "Let us start by mounting the drive and importing the necessary libraries."
      ]
    },
    {
      "cell_type": "code",
      "execution_count": 1,
      "metadata": {
        "colab": {
          "base_uri": "https://localhost:8080/"
        },
        "id": "03lDyQUuef7z",
        "outputId": "36b57d8c-b641-4637-8b74-f0932f53202f"
      },
      "outputs": [
        {
          "output_type": "stream",
          "name": "stdout",
          "text": [
            "Mounted at /content/drive\n"
          ]
        }
      ],
      "source": [
        "from google.colab import drive\n",
        "drive.mount('/content/drive')"
      ]
    },
    {
      "cell_type": "markdown",
      "metadata": {
        "id": "C8U3DUa3eNsT"
      },
      "source": [
        "## **Importing libraries**"
      ]
    },
    {
      "cell_type": "code",
      "execution_count": 2,
      "metadata": {
        "id": "-dVzeuF3eQx1"
      },
      "outputs": [],
      "source": [
        "import numpy as np\n",
        "import pandas as pd\n",
        "import matplotlib.pyplot as plt\n",
        "import seaborn as sns\n",
        "\n",
        "from sklearn.model_selection import train_test_split\n",
        "from sklearn.preprocessing import MinMaxScaler\n",
        "\n",
        "import tensorflow as tf\n",
        "from tensorflow.keras.models import Sequential\n",
        "from tensorflow.keras.layers import Dense, Conv2D, MaxPool2D, BatchNormalization, Dropout, Flatten, LeakyReLU\n",
        "from tensorflow.keras.utils import to_categorical"
      ]
    },
    {
      "cell_type": "markdown",
      "metadata": {
        "id": "ucnevGLoyKf_"
      },
      "source": [
        "Let us check for the version of TensorFlow."
      ]
    },
    {
      "cell_type": "code",
      "execution_count": 3,
      "metadata": {
        "colab": {
          "base_uri": "https://localhost:8080/"
        },
        "id": "W5as47YxyJVk",
        "outputId": "37ab37c1-c1e8-4b68-9541-2e0f6b153938"
      },
      "outputs": [
        {
          "output_type": "stream",
          "name": "stdout",
          "text": [
            "2.8.0\n"
          ]
        }
      ],
      "source": [
        "print(tf.__version__)"
      ]
    },
    {
      "cell_type": "markdown",
      "metadata": {
        "id": "8lsux2ZwyTTR"
      },
      "source": [
        "## **Load the dataset**\n",
        "- Let us now load the dataset that is available as a .h5 file.\n",
        "- Split the data into train and the test dataset"
      ]
    },
    {
      "cell_type": "code",
      "execution_count": 4,
      "metadata": {
        "id": "BApX9qgNsqV0",
        "scrolled": true
      },
      "outputs": [],
      "source": [
        "import h5py\n",
        "\n",
        "# Open the file as read only\n",
        "# User can make changes in the path as required\n",
        "h5f = h5py.File('/content/drive/MyDrive/SVHN_single_grey1.h5', 'r')\n",
        "\n",
        "# Load the training and the test set\n",
        "X_train = h5f['X_train'][:]\n",
        "y_train = h5f['y_train'][:]\n",
        "X_test = h5f['X_test'][:]\n",
        "y_test = h5f['y_test'][:]\n",
        "\n",
        "\n",
        "# Close this file\n",
        "h5f.close()"
      ]
    },
    {
      "cell_type": "markdown",
      "metadata": {
        "id": "hVe0CYpUgj7w"
      },
      "source": [
        "Let's check the number of images in the training and testing data."
      ]
    },
    {
      "cell_type": "code",
      "execution_count": 5,
      "metadata": {
        "colab": {
          "base_uri": "https://localhost:8080/"
        },
        "id": "y3lwKpOefkpA",
        "outputId": "1b9d122d-549b-4df3-c734-cf2635a0a520"
      },
      "outputs": [
        {
          "output_type": "execute_result",
          "data": {
            "text/plain": [
              "(42000, 18000)"
            ]
          },
          "metadata": {},
          "execution_count": 5
        }
      ],
      "source": [
        "len(X_train), len(X_test)"
      ]
    },
    {
      "cell_type": "markdown",
      "metadata": {
        "id": "akTUOfLlgwoM"
      },
      "source": [
        "**Observations**\n",
        "- There are 42,000 images in the training data and 18,000 images in the testing data. "
      ]
    },
    {
      "cell_type": "markdown",
      "metadata": {
        "id": "kxODV6HKykuc"
      },
      "source": [
        "## **Visualizing images**\n",
        "- Use X_train to visualize the first 10 images\n",
        "- Use Y_train to print the first 10 labels"
      ]
    },
    {
      "cell_type": "markdown",
      "metadata": {
        "id": "Rn5IZYv-e2TC"
      },
      "source": [
        "#### **Question 1: Complete the below code to visualize the first 10 images from the training data (1 Mark)**"
      ]
    },
    {
      "cell_type": "code",
      "execution_count": 6,
      "metadata": {
        "colab": {
          "base_uri": "https://localhost:8080/",
          "height": 95
        },
        "id": "Bvsc8ytHsqWD",
        "outputId": "af9a6f39-74a5-4d0b-c87d-613f7384aad0"
      },
      "outputs": [
        {
          "output_type": "display_data",
          "data": {
            "image/png": "[encoded data removed]",
            "text/plain": [
              "<Figure size 720x72 with 10 Axes>"
            ]
          },
          "metadata": {
            "needs_background": "light"
          }
        },
        {
          "output_type": "stream",
          "name": "stdout",
          "text": [
            "label for each of the above image: [2 6 7 4 4 0 3 0 7 3]\n"
          ]
        }
      ],
      "source": [
        "# visualizing the first 10 images in the dataset and their labels\n",
        "plt.figure(figsize=(10, 1))\n",
        "\n",
        "for i in range(10):\n",
        "    plt.subplot(1, 10, i+1)\n",
        "    plt.imshow(X_train[i], cmap=\"gray\") # write the function to visualize images\n",
        "    plt.axis('off')\n",
        "\n",
        "plt.show()\n",
        "print('label for each of the above image: %s' % (y_train[0:10]))"
      ]
    },
    {
      "cell_type": "markdown",
      "metadata": {
        "id": "kzoyeXHOy80N"
      },
      "source": [
        "## **Data Preparation**\n",
        "\n",
        "- Print the first image in the train image and figure out the shape of the images\n",
        "- Reshape the train and the test dataset to make them fit the first convolutional operation that we will create later. Figure out the required shape\n",
        "- Normalize the train and the test dataset by dividing by 255\n",
        "- Print the new shapes of the train and the test set\n",
        "- One-hot encode the target variable"
      ]
    },
    {
      "cell_type": "code",
      "execution_count": 7,
      "metadata": {
        "colab": {
          "base_uri": "https://localhost:8080/"
        },
        "id": "NqndzQXng9rL",
        "outputId": "8caf54d1-7ba6-4501-a56b-b9c3e48b2219"
      },
      "outputs": [
        {
          "output_type": "stream",
          "name": "stdout",
          "text": [
            "Shape: (32, 32)\n",
            "\n",
            "First image:\n",
            " [[ 33.0704  30.2601  26.852  ...  71.4471  58.2204  42.9939]\n",
            " [ 25.2283  25.5533  29.9765 ... 113.0209 103.3639  84.2949]\n",
            " [ 26.2775  22.6137  40.4763 ... 113.3028 121.775  115.4228]\n",
            " ...\n",
            " [ 28.5502  36.212   45.0801 ...  24.1359  25.0927  26.0603]\n",
            " [ 38.4352  26.4733  23.2717 ...  28.1094  29.4683  30.0661]\n",
            " [ 50.2984  26.0773  24.0389 ...  49.6682  50.853   53.0377]]\n"
          ]
        }
      ],
      "source": [
        "# Shape of the images and the first image\n",
        "\n",
        "print(\"Shape:\", X_train[0].shape)\n",
        "print()\n",
        "print(\"First image:\\n\", X_train[0])"
      ]
    },
    {
      "cell_type": "code",
      "execution_count": 8,
      "metadata": {
        "id": "D9YPwf9ysqWU"
      },
      "outputs": [],
      "source": [
        "# Reshaping the dataset to flatten them. Remember that we always have to give a 4D array as input to CNNs\n",
        "\n",
        "X_train = X_train.reshape(X_train.shape[0], 32,32,1)\n",
        "X_test = X_test.reshape(X_test.shape[0], 32,32,1)"
      ]
    },
    {
      "cell_type": "code",
      "execution_count": 9,
      "metadata": {
        "id": "q_yUUTp_mUzB"
      },
      "outputs": [],
      "source": [
        "# Normalize inputs from 0-255 to 0-1\n",
        "\n",
        "X_train = X_train / 255.0\n",
        "X_test = X_test / 255.0"
      ]
    },
    {
      "cell_type": "code",
      "execution_count": 10,
      "metadata": {
        "colab": {
          "base_uri": "https://localhost:8080/"
        },
        "id": "t7FSqOpamWkH",
        "outputId": "4764b50b-10e1-497e-bf15-d9c4de5abad6"
      },
      "outputs": [
        {
          "output_type": "stream",
          "name": "stdout",
          "text": [
            "Training set: (42000, 32, 32, 1) (42000,)\n",
            "Test set: (18000, 32, 32, 1) (18000,)\n"
          ]
        }
      ],
      "source": [
        "# New shape \n",
        "\n",
        "print('Training set:', X_train.shape, y_train.shape)\n",
        "print('Test set:', X_test.shape, y_test.shape)"
      ]
    },
    {
      "cell_type": "markdown",
      "metadata": {
        "id": "YP92jacue2TE"
      },
      "source": [
        "#### **Question 2: One-hot encode the labels in the target variable y_train and y_test (2 Marks)**"
      ]
    },
    {
      "cell_type": "code",
      "execution_count": 11,
      "metadata": {
        "colab": {
          "base_uri": "https://localhost:8080/"
        },
        "id": "zL0lYER4sqWw",
        "outputId": "553bf959-c9bf-4b8d-8c83-911958698ede"
      },
      "outputs": [
        {
          "output_type": "execute_result",
          "data": {
            "text/plain": [
              "array([[0., 1., 0., ..., 0., 0., 0.],\n",
              "       [0., 0., 0., ..., 1., 0., 0.],\n",
              "       [0., 0., 1., ..., 0., 0., 0.],\n",
              "       ...,\n",
              "       [0., 0., 0., ..., 1., 0., 0.],\n",
              "       [0., 0., 0., ..., 0., 0., 1.],\n",
              "       [0., 0., 1., ..., 0., 0., 0.]], dtype=float32)"
            ]
          },
          "metadata": {},
          "execution_count": 11
        }
      ],
      "source": [
        "#Write the function and appropriate variable name to one-hot encode the output\n",
        "\n",
        "y_train = to_categorical(y_train)\n",
        "y_test = to_categorical(y_test)\n",
        "\n",
        "\n",
        "#test labels\n",
        "y_test"
      ]
    },
    {
      "cell_type": "markdown",
      "metadata": {
        "id": "ViqPOTquCF76"
      },
      "source": [
        "- Notice that each entry of y_test is a one-hot encoded vector instead of a single label."
      ]
    },
    {
      "cell_type": "markdown",
      "metadata": {
        "id": "yH-gVrzuByNA"
      },
      "source": [
        "## **Model Building**\n",
        "\n",
        "Now, we have done data preprocessing, let's build a CNN model."
      ]
    },
    {
      "cell_type": "code",
      "execution_count": 12,
      "metadata": {
        "id": "eaGr-3Noe2TF"
      },
      "outputs": [],
      "source": [
        "#Fixing the seed for random number generators\n",
        "np.random.seed(42)\n",
        "import random\n",
        "random.seed(42)\n",
        "tf.random.set_seed(42)"
      ]
    },
    {
      "cell_type": "markdown",
      "metadata": {
        "id": "UJDUoaEj1d6e"
      },
      "source": [
        "### **Model Architecture**\n",
        "- Write a function that returns a sequential model with the following architecture\n",
        " - First Convolutional layer with **16 filters and kernel size of 3x3**. Use the **'same' padding** and provide an **apt input shape**\n",
        " - Add a **LeakyRelu layer** with the **slope equal to 0.1**\n",
        " - Second Convolutional layer with **32 filters and kernel size of 3x3 with 'same' padding**\n",
        " - Another **LeakyRelu** with the **slope equal to 0.1**\n",
        " - A **max-pooling layer** with a **pool size of 2x2**\n",
        " - **Flatten** the output from the previous layer\n",
        " - Add a **dense layer with 32 nodes**\n",
        " - Add a **LeakyRelu layer with slope equal to 0.1**\n",
        " - Add the final **output layer with nodes equal to the number of classes** and **softmax activation**\n",
        " - Compile the model with the **categorical_crossentropy loss, adam optimizers (learning_rate = 0.001), and accuracy metric**. Do not fit the model here, just return the compiled model\n",
        "- Call the function and store the model in a new variable\n",
        "- Print the summary of the model.\n",
        "- Fit the model on the train data with a **validation split of 0.2, batch size = 32, verbose = 1, and 20 epochs**. Store the model building history to use later for visualization."
      ]
    },
    {
      "cell_type": "markdown",
      "metadata": {
        "id": "Uw8pZcNwe2TG"
      },
      "source": [
        "#### **Question 3: Build and train a CNN model as per the above mentioned architecture (10 Marks)**"
      ]
    },
    {
      "cell_type": "code",
      "execution_count": 13,
      "metadata": {
        "id": "Cmi81Gr5sqW-"
      },
      "outputs": [],
      "source": [
        "#Importing losses and optimizers modules\n",
        "from tensorflow.keras import losses\n",
        "from tensorflow.keras import optimizers\n",
        "\n",
        "#Define the function\n",
        "def cnn_model_1():\n",
        "    model = Sequential() \n",
        "    #Add layers as per the architecture mentioned above in the same sequence\n",
        "\n",
        "    model.add(Conv2D(filters=16, kernel_size=(3, 3), padding=\"same\", input_shape=(32, 32, 1))) #First Convolutional layer with 16 filters and kernel size of 3x3. Use the 'same' padding and provide an apt input shape\n",
        "\n",
        "    model.add(LeakyReLU(0.1)) #LeakyRelu layer with the slope equal to 0.1\n",
        "\n",
        "    model.add(Conv2D(filters=32, kernel_size=(3, 3), padding='same')) #Second Convolutional layer with 32 filters and kernel size of 3x3 with 'same' padding\n",
        "\n",
        "    model.add(LeakyReLU(0.1)) #Another LeakyRelu with the slope equal to 0.1\n",
        "\n",
        "    model.add(MaxPool2D(pool_size=(2, 2))) #max-pooling layer with a pool size of 2x2\n",
        "\n",
        "    model.add(Flatten()) #Flatten the output from the previous layer\n",
        "\n",
        "    model.add(Dense(32)) #Add a dense layer with 32 nodes\n",
        "\n",
        "    model.add(LeakyReLU(0.1)) #Add a LeakyRelu layer with slope equal to 0.1\n",
        "\n",
        "    model.add(Dense(10, activation='softmax')) #output layer with nodes equal to the number of classes and softmax activation\n",
        "    \n",
        "    #declare adam optimizer with learning rate of 0.001 \n",
        "    adam = optimizers.Adam(learning_rate = 0.001) \n",
        "    \n",
        "    #compile the model\n",
        "    model.compile(optimizer='adam', loss='categorical_crossentropy', metrics = ['accuracy']) #Compile the model with the categorical_crossentropy loss, adam optimizers (learning_rate = 0.001), and accuracy metric.\n",
        "    \n",
        "    return model"
      ]
    },
    {
      "cell_type": "code",
      "execution_count": 14,
      "metadata": {
        "id": "bGCUI_xsImnH"
      },
      "outputs": [],
      "source": [
        "#Build the model\n",
        "model_1 = cnn_model_1()"
      ]
    },
    {
      "cell_type": "code",
      "execution_count": 15,
      "metadata": {
        "id": "ckJsLdmdQadZ",
        "colab": {
          "base_uri": "https://localhost:8080/"
        },
        "outputId": "137ac5ea-bb02-4ad0-f44e-5e9cfb453edf"
      },
      "outputs": [
        {
          "output_type": "stream",
          "name": "stdout",
          "text": [
            "Model: \"sequential\"\n",
            "_________________________________________________________________\n",
            " Layer (type)                Output Shape              Param #   \n",
            "=================================================================\n",
            " conv2d (Conv2D)             (None, 32, 32, 16)        160       \n",
            "                                                                 \n",
            " leaky_re_lu (LeakyReLU)     (None, 32, 32, 16)        0         \n",
            "                                                                 \n",
            " conv2d_1 (Conv2D)           (None, 32, 32, 32)        4640      \n",
            "                                                                 \n",
            " leaky_re_lu_1 (LeakyReLU)   (None, 32, 32, 32)        0         \n",
            "                                                                 \n",
            " max_pooling2d (MaxPooling2D  (None, 16, 16, 32)       0         \n",
            " )                                                               \n",
            "                                                                 \n",
            " flatten (Flatten)           (None, 8192)              0         \n",
            "                                                                 \n",
            " dense (Dense)               (None, 32)                262176    \n",
            "                                                                 \n",
            " leaky_re_lu_2 (LeakyReLU)   (None, 32)                0         \n",
            "                                                                 \n",
            " dense_1 (Dense)             (None, 10)                330       \n",
            "                                                                 \n",
            "=================================================================\n",
            "Total params: 267,306\n",
            "Trainable params: 267,306\n",
            "Non-trainable params: 0\n",
            "_________________________________________________________________\n"
          ]
        }
      ],
      "source": [
        "#Print the model summary\n",
        "model_1.summary()"
      ]
    },
    {
      "cell_type": "code",
      "execution_count": 16,
      "metadata": {
        "id": "3Fy3Dif_zcCk",
        "colab": {
          "base_uri": "https://localhost:8080/"
        },
        "outputId": "e838e617-cefd-4f91-fbcf-e0319cfe938d"
      },
      "outputs": [
        {
          "output_type": "stream",
          "name": "stdout",
          "text": [
            "Epoch 1/20\n",
            "1050/1050 [==============================] - 19s 10ms/step - loss: 1.2182 - accuracy: 0.5954 - val_loss: 0.6454 - val_accuracy: 0.8138\n",
            "Epoch 2/20\n",
            "1050/1050 [==============================] - 10s 9ms/step - loss: 0.5386 - accuracy: 0.8461 - val_loss: 0.5338 - val_accuracy: 0.8460\n",
            "Epoch 3/20\n",
            "1050/1050 [==============================] - 10s 10ms/step - loss: 0.4414 - accuracy: 0.8707 - val_loss: 0.4916 - val_accuracy: 0.8620\n",
            "Epoch 4/20\n",
            "1050/1050 [==============================] - 10s 9ms/step - loss: 0.3848 - accuracy: 0.8874 - val_loss: 0.4667 - val_accuracy: 0.8714\n",
            "Epoch 5/20\n",
            "1050/1050 [==============================] - 10s 9ms/step - loss: 0.3405 - accuracy: 0.8987 - val_loss: 0.4511 - val_accuracy: 0.8739\n",
            "Epoch 6/20\n",
            "1050/1050 [==============================] - 10s 9ms/step - loss: 0.3018 - accuracy: 0.9102 - val_loss: 0.4649 - val_accuracy: 0.8692\n",
            "Epoch 7/20\n",
            "1050/1050 [==============================] - 10s 9ms/step - loss: 0.2715 - accuracy: 0.9177 - val_loss: 0.4427 - val_accuracy: 0.8815\n",
            "Epoch 8/20\n",
            "1050/1050 [==============================] - 10s 9ms/step - loss: 0.2403 - accuracy: 0.9274 - val_loss: 0.4689 - val_accuracy: 0.8758\n",
            "Epoch 9/20\n",
            "1050/1050 [==============================] - 10s 10ms/step - loss: 0.2201 - accuracy: 0.9316 - val_loss: 0.4877 - val_accuracy: 0.8702\n",
            "Epoch 10/20\n",
            "1050/1050 [==============================] - 10s 9ms/step - loss: 0.1950 - accuracy: 0.9418 - val_loss: 0.4978 - val_accuracy: 0.8755\n",
            "Epoch 11/20\n",
            "1050/1050 [==============================] - 10s 9ms/step - loss: 0.1795 - accuracy: 0.9444 - val_loss: 0.5508 - val_accuracy: 0.8710\n",
            "Epoch 12/20\n",
            "1050/1050 [==============================] - 10s 9ms/step - loss: 0.1576 - accuracy: 0.9516 - val_loss: 0.5679 - val_accuracy: 0.8707\n",
            "Epoch 13/20\n",
            "1050/1050 [==============================] - 10s 9ms/step - loss: 0.1482 - accuracy: 0.9551 - val_loss: 0.5553 - val_accuracy: 0.8740\n",
            "Epoch 14/20\n",
            "1050/1050 [==============================] - 10s 9ms/step - loss: 0.1324 - accuracy: 0.9576 - val_loss: 0.6144 - val_accuracy: 0.8667\n",
            "Epoch 15/20\n",
            "1050/1050 [==============================] - 10s 9ms/step - loss: 0.1217 - accuracy: 0.9615 - val_loss: 0.6262 - val_accuracy: 0.8708\n",
            "Epoch 16/20\n",
            "1050/1050 [==============================] - 10s 10ms/step - loss: 0.1101 - accuracy: 0.9645 - val_loss: 0.6506 - val_accuracy: 0.8700\n",
            "Epoch 17/20\n",
            "1050/1050 [==============================] - 10s 9ms/step - loss: 0.0999 - accuracy: 0.9671 - val_loss: 0.7144 - val_accuracy: 0.8698\n",
            "Epoch 18/20\n",
            "1050/1050 [==============================] - 10s 9ms/step - loss: 0.0914 - accuracy: 0.9707 - val_loss: 0.7221 - val_accuracy: 0.8699\n",
            "Epoch 19/20\n",
            "1050/1050 [==============================] - 10s 9ms/step - loss: 0.0818 - accuracy: 0.9724 - val_loss: 0.7472 - val_accuracy: 0.8723\n",
            "Epoch 20/20\n",
            "1050/1050 [==============================] - 10s 9ms/step - loss: 0.0777 - accuracy: 0.9746 - val_loss: 0.8407 - val_accuracy: 0.8590\n"
          ]
        }
      ],
      "source": [
        "# Fit the model\n",
        "history_model_1 = model_1.fit(X_train, y_train, validation_split = 0.2, batch_size = 32, verbose = 1, epochs=20) #Fit the model on the train data with a validation split of 0.2, batch size = 32, verbose = 1, and 20 epochs"
      ]
    },
    {
      "cell_type": "markdown",
      "metadata": {
        "id": "tKOckG-KPyLg"
      },
      "source": [
        "### **Plotting the validation and training accuracies**"
      ]
    },
    {
      "cell_type": "markdown",
      "metadata": {
        "id": "sVyQ9Gpge2TI"
      },
      "source": [
        "#### **Question 4: Write your observations on the below plot (2 Marks)**"
      ]
    },
    {
      "cell_type": "code",
      "execution_count": 17,
      "metadata": {
        "colab": {
          "base_uri": "https://localhost:8080/",
          "height": 497
        },
        "id": "lt77zgGMP4yw",
        "outputId": "b82ea65a-5265-49ed-9909-489a567e4fdd"
      },
      "outputs": [
        {
          "output_type": "display_data",
          "data": {
            "image/png": "[encoded data removed]",
            "text/plain": [
              "<Figure size 576x576 with 1 Axes>"
            ]
          },
          "metadata": {
            "needs_background": "light"
          }
        }
      ],
      "source": [
        "# plotting the accuracies\n",
        "\n",
        "dict_hist = history_model_1.history\n",
        "list_ep = [i for i in range(1,21)]\n",
        "\n",
        "plt.figure(figsize = (8,8))\n",
        "plt.plot(list_ep,dict_hist['accuracy'],ls = '--', label = 'accuracy')\n",
        "plt.plot(list_ep,dict_hist['val_accuracy'],ls = '--', label = 'val_accuracy')\n",
        "plt.ylabel('Accuracy')\n",
        "plt.xlabel('Epochs')\n",
        "plt.legend()\n",
        "plt.show()"
      ]
    },
    {
      "cell_type": "markdown",
      "metadata": {
        "id": "pGBbQpLONX7k"
      },
      "source": [
        "**Observations:After the second epoch, the train set continued to increase accuracy until hitting 97.46% with the last epoch while the validation set leveled off and never rose above 88.15%. This model is not giving a generalized performance. **"
      ]
    },
    {
      "cell_type": "markdown",
      "metadata": {
        "id": "z0qgLMBZm5-K"
      },
      "source": [
        "Let's build another model and see if we can get a better model with generalized performance.\n",
        "\n",
        "First, we need to clear the previous model's history from the keras backend. Also, let's fix the seed again after clearing the backend."
      ]
    },
    {
      "cell_type": "code",
      "execution_count": null,
      "metadata": {
        "id": "y98BpLxsok_H"
      },
      "outputs": [],
      "source": [
        "#Clearing backend\n",
        "from tensorflow.keras import backend\n",
        "backend.clear_session()"
      ]
    },
    {
      "cell_type": "code",
      "execution_count": 18,
      "metadata": {
        "id": "HbKi93HTolGW"
      },
      "outputs": [],
      "source": [
        "#Fixing the seed for random number generators\n",
        "np.random.seed(42)\n",
        "import random\n",
        "random.seed(42)\n",
        "tf.random.set_seed(42)"
      ]
    },
    {
      "cell_type": "markdown",
      "metadata": {
        "id": "lT6o3TIKuCtk"
      },
      "source": [
        "### **Second Model Architecture**\n",
        "- Write a function that returns a sequential model with the following architecture\n",
        " - First Convolutional layer with **16 filters and kernel size of 3x3**. Use the **'same' padding** and provide an **apt input shape**\n",
        " - Add a **LeakyRelu layer** with the **slope equal to 0.1**\n",
        " - Second Convolutional layer with **32 filters and kernel size of 3x3 with 'same' padding**\n",
        " - Add **LeakyRelu** with the **slope equal to 0.1**\n",
        " - Add a **max-pooling layer** with a **pool size of 2x2**\n",
        " - Add a **BatchNormalization layer**\n",
        " - Third Convolutional layer with **32 filters and kernel size of 3x3 with 'same' padding**\n",
        " - Add a **LeakyRelu layer with slope equal to 0.1**\n",
        " - Fourth Convolutional layer **64 filters and kernel size of 3x3 with 'same' padding** \n",
        " - Add a **LeakyRelu layer with slope equal to 0.1**\n",
        " - Add a **max-pooling layer** with a **pool size of 2x2**\n",
        " - Add a **BatchNormalization layer**\n",
        " - **Flatten** the output from the previous layer\n",
        " - Add a **dense layer with 32 nodes**\n",
        " - Add a **LeakyRelu layer with slope equal to 0.1**\n",
        " - Add a **dropout layer with rate equal to 0.5**\n",
        " - Add the final **output layer with nodes equal to the number of classes** and **softmax activation**\n",
        " - Compile the model with the **categorical_crossentropy loss, adam optimizers (learning_rate = 0.001), and accuracy metric**. Do not fit the model here, just return the compiled model\n",
        "- Call the function and store the model in a new variable\n",
        "- Print the summary of the model.\n",
        "- Fit the model on the train data with a **validation split of 0.2, batch size = 128, verbose = 1, and 30 epochs**. Store the model building history to use later for visualization."
      ]
    },
    {
      "cell_type": "markdown",
      "metadata": {
        "id": "Sr-bwBT2e2TJ"
      },
      "source": [
        "#### **Question 5: Build and train the second CNN model as per the above mentioned architecture (10 Marks)**"
      ]
    },
    {
      "cell_type": "code",
      "execution_count": 19,
      "metadata": {
        "id": "EEPYLFIPnSDP"
      },
      "outputs": [],
      "source": [
        "#Define the function\n",
        "def cnn_model_2():\n",
        "    model = Sequential() \n",
        "    #Add layers as per the architecture mentioned above in the same sequence\n",
        "\n",
        "    #First Convolutional layer with 16 filters and kernel size of 3x3. Use the 'same' padding and provide an apt input shape\n",
        "    model.add(Conv2D(filters=16, kernel_size=(3, 3), padding=\"same\", input_shape=(32, 32, 1)))\n",
        "\n",
        "    #LeakyRelu layer with the slope equal to 0.1\n",
        "    model.add(LeakyReLU(0.1))\n",
        "\n",
        "    #Second Convolutional layer with 32 filters and kernel size of 3x3 with 'same' padding\n",
        "    model.add(Conv2D(filters=32, kernel_size=(3, 3), padding='same')) \n",
        "\n",
        "    #LeakyRelu with the slope equal to 0.1\n",
        "    model.add(LeakyReLU(0.1))\n",
        "\n",
        "    #max-pooling layer with a pool size of 2x2\n",
        "    model.add(MaxPool2D(pool_size=(2, 2)))\n",
        "\n",
        "    #BatchNormalization layer\n",
        "    model.add(BatchNormalization())\n",
        "\n",
        "    #Third Convolutional layer with 32 filters and kernel size of 3x3 with 'same' padding\n",
        "    model.add(Conv2D(filters=32, kernel_size=(3, 3), padding='same'))\n",
        "\n",
        "    #LeakyRelu layer with slope equal to 0.1\n",
        "    model.add(LeakyReLU(0.1))\n",
        "\n",
        "    #Fourth Convolutional layer 64 filters and kernel size of 3x3 with 'same' padding\n",
        "    model.add(Conv2D(filters=64, kernel_size=(3, 3), padding='same'))\n",
        "\n",
        "    #LeakyRelu layer with slope equal to 0.1\n",
        "    model.add(LeakyReLU(0.1))\n",
        "\n",
        "    #max-pooling layer with a pool size of 2x2\n",
        "    model.add(MaxPool2D(pool_size=(2, 2)))\n",
        "\n",
        "    #BatchNormalization layer\n",
        "    model.add(BatchNormalization())\n",
        "\n",
        "    #Flatten the output from the previous layer\n",
        "    model.add(Flatten())\n",
        "\n",
        "    #dense layer with 32 nodes\n",
        "    model.add(Dense(32))\n",
        "\n",
        "    #LeakyRelu layer with slope equal to 0.1\n",
        "    model.add(LeakyReLU(0.1))\n",
        "\n",
        "    #dropout layer with rate equal to 0.5\n",
        "    model.add(Dropout(0.5))\n",
        "    \n",
        "    #final output layer with nodes equal to the number of classes and softmax activation\n",
        "    model.add(Dense(10, activation='softmax'))\n",
        "    \n",
        "    #declare adam optimizer with learning rate of 0.001 \n",
        "    adam = optimizers.Adam(learning_rate = 0.001)\n",
        "    \n",
        "    #Compile the model with the categorical_crossentropy loss, adam optimizers (learning_rate = 0.001), and accuracy metric.\n",
        "    model.compile(optimizer='adam', loss='categorical_crossentropy', metrics = ['accuracy']) \n",
        "    \n",
        "    return model"
      ]
    },
    {
      "cell_type": "code",
      "execution_count": 20,
      "metadata": {
        "id": "AKjDY4plnSFl"
      },
      "outputs": [],
      "source": [
        "# Build the model\n",
        "model_2 = cnn_model_2() "
      ]
    },
    {
      "cell_type": "code",
      "execution_count": 21,
      "metadata": {
        "id": "gz_6SVrU2swZ",
        "colab": {
          "base_uri": "https://localhost:8080/"
        },
        "outputId": "a6647c97-0a00-4c39-c49d-44f0bfe0492f"
      },
      "outputs": [
        {
          "output_type": "stream",
          "name": "stdout",
          "text": [
            "Model: \"sequential_1\"\n",
            "_________________________________________________________________\n",
            " Layer (type)                Output Shape              Param #   \n",
            "=================================================================\n",
            " conv2d_2 (Conv2D)           (None, 32, 32, 16)        160       \n",
            "                                                                 \n",
            " leaky_re_lu_3 (LeakyReLU)   (None, 32, 32, 16)        0         \n",
            "                                                                 \n",
            " conv2d_3 (Conv2D)           (None, 32, 32, 32)        4640      \n",
            "                                                                 \n",
            " leaky_re_lu_4 (LeakyReLU)   (None, 32, 32, 32)        0         \n",
            "                                                                 \n",
            " max_pooling2d_1 (MaxPooling  (None, 16, 16, 32)       0         \n",
            " 2D)                                                             \n",
            "                                                                 \n",
            " batch_normalization (BatchN  (None, 16, 16, 32)       128       \n",
            " ormalization)                                                   \n",
            "                                                                 \n",
            " conv2d_4 (Conv2D)           (None, 16, 16, 32)        9248      \n",
            "                                                                 \n",
            " leaky_re_lu_5 (LeakyReLU)   (None, 16, 16, 32)        0         \n",
            "                                                                 \n",
            " conv2d_5 (Conv2D)           (None, 16, 16, 64)        18496     \n",
            "                                                                 \n",
            " leaky_re_lu_6 (LeakyReLU)   (None, 16, 16, 64)        0         \n",
            "                                                                 \n",
            " max_pooling2d_2 (MaxPooling  (None, 8, 8, 64)         0         \n",
            " 2D)                                                             \n",
            "                                                                 \n",
            " batch_normalization_1 (Batc  (None, 8, 8, 64)         256       \n",
            " hNormalization)                                                 \n",
            "                                                                 \n",
            " flatten_1 (Flatten)         (None, 4096)              0         \n",
            "                                                                 \n",
            " dense_2 (Dense)             (None, 32)                131104    \n",
            "                                                                 \n",
            " leaky_re_lu_7 (LeakyReLU)   (None, 32)                0         \n",
            "                                                                 \n",
            " dropout (Dropout)           (None, 32)                0         \n",
            "                                                                 \n",
            " dense_3 (Dense)             (None, 10)                330       \n",
            "                                                                 \n",
            "=================================================================\n",
            "Total params: 164,362\n",
            "Trainable params: 164,170\n",
            "Non-trainable params: 192\n",
            "_________________________________________________________________\n"
          ]
        }
      ],
      "source": [
        "#Print the summary\n",
        "model_2.summary()"
      ]
    },
    {
      "cell_type": "code",
      "execution_count": 22,
      "metadata": {
        "id": "IQ0Sc4R-y-uu",
        "colab": {
          "base_uri": "https://localhost:8080/"
        },
        "outputId": "19e5aa40-1c13-493c-f7de-9d2952a1297c"
      },
      "outputs": [
        {
          "output_type": "stream",
          "name": "stdout",
          "text": [
            "Epoch 1/30\n",
            "263/263 [==============================] - 7s 23ms/step - loss: 1.4824 - accuracy: 0.4915 - val_loss: 2.5878 - val_accuracy: 0.1850\n",
            "Epoch 2/30\n",
            "263/263 [==============================] - 6s 21ms/step - loss: 0.7042 - accuracy: 0.7808 - val_loss: 0.6414 - val_accuracy: 0.8094\n",
            "Epoch 3/30\n",
            "263/263 [==============================] - 6s 22ms/step - loss: 0.5764 - accuracy: 0.8236 - val_loss: 0.4532 - val_accuracy: 0.8665\n",
            "Epoch 4/30\n",
            "263/263 [==============================] - 6s 22ms/step - loss: 0.5045 - accuracy: 0.8473 - val_loss: 0.5027 - val_accuracy: 0.8525\n",
            "Epoch 5/30\n",
            "263/263 [==============================] - 6s 21ms/step - loss: 0.4556 - accuracy: 0.8632 - val_loss: 0.3839 - val_accuracy: 0.8929\n",
            "Epoch 6/30\n",
            "263/263 [==============================] - 6s 21ms/step - loss: 0.4183 - accuracy: 0.8704 - val_loss: 0.4203 - val_accuracy: 0.8869\n",
            "Epoch 7/30\n",
            "263/263 [==============================] - 6s 21ms/step - loss: 0.3883 - accuracy: 0.8804 - val_loss: 0.4655 - val_accuracy: 0.8693\n",
            "Epoch 8/30\n",
            "263/263 [==============================] - 6s 21ms/step - loss: 0.3668 - accuracy: 0.8844 - val_loss: 0.4799 - val_accuracy: 0.8611\n",
            "Epoch 9/30\n",
            "263/263 [==============================] - 6s 22ms/step - loss: 0.3406 - accuracy: 0.8932 - val_loss: 0.3971 - val_accuracy: 0.8862\n",
            "Epoch 10/30\n",
            "263/263 [==============================] - 6s 22ms/step - loss: 0.3215 - accuracy: 0.8989 - val_loss: 0.3730 - val_accuracy: 0.8992\n",
            "Epoch 11/30\n",
            "263/263 [==============================] - 6s 21ms/step - loss: 0.3014 - accuracy: 0.9040 - val_loss: 0.3763 - val_accuracy: 0.9044\n",
            "Epoch 12/30\n",
            "263/263 [==============================] - 6s 21ms/step - loss: 0.2852 - accuracy: 0.9102 - val_loss: 0.3715 - val_accuracy: 0.9055\n",
            "Epoch 13/30\n",
            "263/263 [==============================] - 6s 21ms/step - loss: 0.2831 - accuracy: 0.9080 - val_loss: 0.3566 - val_accuracy: 0.9068\n",
            "Epoch 14/30\n",
            "263/263 [==============================] - 6s 21ms/step - loss: 0.2626 - accuracy: 0.9167 - val_loss: 0.3980 - val_accuracy: 0.9043\n",
            "Epoch 15/30\n",
            "263/263 [==============================] - 6s 22ms/step - loss: 0.2523 - accuracy: 0.9196 - val_loss: 0.3629 - val_accuracy: 0.9112\n",
            "Epoch 16/30\n",
            "263/263 [==============================] - 6s 21ms/step - loss: 0.2374 - accuracy: 0.9228 - val_loss: 0.4280 - val_accuracy: 0.8998\n",
            "Epoch 17/30\n",
            "263/263 [==============================] - 6s 22ms/step - loss: 0.2341 - accuracy: 0.9251 - val_loss: 0.3722 - val_accuracy: 0.9054\n",
            "Epoch 18/30\n",
            "263/263 [==============================] - 6s 21ms/step - loss: 0.2169 - accuracy: 0.9294 - val_loss: 0.3933 - val_accuracy: 0.9101\n",
            "Epoch 19/30\n",
            "263/263 [==============================] - 6s 22ms/step - loss: 0.2206 - accuracy: 0.9289 - val_loss: 0.4165 - val_accuracy: 0.8968\n",
            "Epoch 20/30\n",
            "263/263 [==============================] - 6s 21ms/step - loss: 0.2083 - accuracy: 0.9325 - val_loss: 0.3810 - val_accuracy: 0.9119\n",
            "Epoch 21/30\n",
            "263/263 [==============================] - 6s 21ms/step - loss: 0.2078 - accuracy: 0.9325 - val_loss: 0.3710 - val_accuracy: 0.9079\n",
            "Epoch 22/30\n",
            "263/263 [==============================] - 6s 21ms/step - loss: 0.1913 - accuracy: 0.9365 - val_loss: 0.4052 - val_accuracy: 0.8948\n",
            "Epoch 23/30\n",
            "263/263 [==============================] - 6s 21ms/step - loss: 0.1902 - accuracy: 0.9384 - val_loss: 0.4595 - val_accuracy: 0.9065\n",
            "Epoch 24/30\n",
            "263/263 [==============================] - 6s 22ms/step - loss: 0.1821 - accuracy: 0.9388 - val_loss: 0.4246 - val_accuracy: 0.9027\n",
            "Epoch 25/30\n",
            "263/263 [==============================] - 6s 22ms/step - loss: 0.1798 - accuracy: 0.9396 - val_loss: 0.4016 - val_accuracy: 0.9087\n",
            "Epoch 26/30\n",
            "263/263 [==============================] - 6s 21ms/step - loss: 0.1676 - accuracy: 0.9438 - val_loss: 0.4282 - val_accuracy: 0.9013\n",
            "Epoch 27/30\n",
            "263/263 [==============================] - 6s 22ms/step - loss: 0.1664 - accuracy: 0.9454 - val_loss: 0.5012 - val_accuracy: 0.9095\n",
            "Epoch 28/30\n",
            "263/263 [==============================] - 6s 22ms/step - loss: 0.1713 - accuracy: 0.9434 - val_loss: 0.4473 - val_accuracy: 0.9073\n",
            "Epoch 29/30\n",
            "263/263 [==============================] - 6s 21ms/step - loss: 0.1589 - accuracy: 0.9471 - val_loss: 0.3981 - val_accuracy: 0.9107\n",
            "Epoch 30/30\n",
            "263/263 [==============================] - 6s 22ms/step - loss: 0.1577 - accuracy: 0.9477 - val_loss: 0.4747 - val_accuracy: 0.9100\n"
          ]
        }
      ],
      "source": [
        "# Fit the model on the train data with a validation split of 0.2, batch size = 128, verbose = 1, and 30 epochs.\n",
        "history_model_2 = model_2.fit(X_train, y_train, validation_split = 0.2, batch_size = 128, verbose = 1, epochs = 30) "
      ]
    },
    {
      "cell_type": "markdown",
      "metadata": {
        "id": "0_f1EXmTe2TK"
      },
      "source": [
        "### **Plotting the validation and training accuracies**"
      ]
    },
    {
      "cell_type": "markdown",
      "metadata": {
        "id": "aC5UbsqXe2TK"
      },
      "source": [
        "#### **Question 6: Write your observations on the below plot (2 Marks)**"
      ]
    },
    {
      "cell_type": "code",
      "execution_count": 23,
      "metadata": {
        "colab": {
          "base_uri": "https://localhost:8080/",
          "height": 497
        },
        "id": "01ig6BrF1KVy",
        "outputId": "62b744e5-a33f-4b86-ca01-7c2e2fc9a778"
      },
      "outputs": [
        {
          "output_type": "display_data",
          "data": {
            "image/png": "[encoded data removed]",
            "text/plain": [
              "<Figure size 576x576 with 1 Axes>"
            ]
          },
          "metadata": {
            "needs_background": "light"
          }
        }
      ],
      "source": [
        "# plotting the accuracies\n",
        "\n",
        "dict_hist = history_model_2.history\n",
        "list_ep = [i for i in range(1,31)]\n",
        "\n",
        "plt.figure(figsize = (8,8))\n",
        "plt.plot(list_ep,dict_hist['accuracy'],ls = '--', label = 'accuracy')\n",
        "plt.plot(list_ep,dict_hist['val_accuracy'],ls = '--', label = 'val_accuracy')\n",
        "plt.ylabel('Accuracy')\n",
        "plt.xlabel('Epochs')\n",
        "plt.legend()\n",
        "plt.show()"
      ]
    },
    {
      "cell_type": "markdown",
      "metadata": {
        "id": "VPW1LlD61RDn"
      },
      "source": [
        "**Observations: The second model showed the train set perform marginally worse with a peak accuracy of 94.77% compared to the first model at 97.46% but the validation set performed better at 91% compared to the first model leveling off at 88%. Additionally, the train and validation sets converged more closely showing this is a more generalized model than the first one. **"
      ]
    },
    {
      "cell_type": "markdown",
      "metadata": {
        "id": "8kuXx9Bvu00f"
      },
      "source": [
        "## **Predictions on the test data**\n",
        "\n",
        "- Make predictions on the test set using the second model\n",
        "- Print the obtained results using the classification report and the confusion matrix\n",
        "- Final observations from the obtained results"
      ]
    },
    {
      "cell_type": "markdown",
      "metadata": {
        "id": "yfZwC9OUe2TL"
      },
      "source": [
        "#### **Question 7: Make predictions on the test data using the second model (1 Mark)**"
      ]
    },
    {
      "cell_type": "code",
      "execution_count": 24,
      "metadata": {
        "id": "xbWMEtTj5Ad0"
      },
      "outputs": [],
      "source": [
        "#Make prediction on the test data using model_2 \n",
        "test_pred = model_2.predict(X_test)\n",
        "\n",
        "test_pred = np.argmax(test_pred, axis=-1)"
      ]
    },
    {
      "cell_type": "markdown",
      "metadata": {
        "id": "i3li8Ib08yts"
      },
      "source": [
        "**Note:** Earlier, we noticed that each entry of the test data is a one-hot encoded vector but to print the classification report and confusion matrix, we must convert each entry of y_test to a single label."
      ]
    },
    {
      "cell_type": "code",
      "execution_count": 25,
      "metadata": {
        "id": "NByu7uAQ8x9P"
      },
      "outputs": [],
      "source": [
        "#Converting each entry to single label from one-hot encoded vector\n",
        "y_test = np.argmax(y_test, axis=-1)"
      ]
    },
    {
      "cell_type": "markdown",
      "metadata": {
        "id": "yHDUEma0e2TM"
      },
      "source": [
        "#### **Question 8: Write your final observations on the performance of the model on the test data (2 Marks)**"
      ]
    },
    {
      "cell_type": "code",
      "execution_count": 26,
      "metadata": {
        "colab": {
          "base_uri": "https://localhost:8080/",
          "height": 629
        },
        "id": "xRddeJ-3EHT1",
        "outputId": "0ac07d0b-5432-42e6-c258-4059dbba93b8"
      },
      "outputs": [
        {
          "output_type": "stream",
          "name": "stdout",
          "text": [
            "              precision    recall  f1-score   support\n",
            "\n",
            "           0       0.90      0.95      0.92      1814\n",
            "           1       0.92      0.91      0.91      1828\n",
            "           2       0.92      0.94      0.93      1803\n",
            "           3       0.94      0.86      0.89      1719\n",
            "           4       0.91      0.94      0.93      1812\n",
            "           5       0.91      0.90      0.91      1768\n",
            "           6       0.89      0.90      0.90      1832\n",
            "           7       0.93      0.93      0.93      1808\n",
            "           8       0.90      0.89      0.89      1812\n",
            "           9       0.90      0.91      0.90      1804\n",
            "\n",
            "    accuracy                           0.91     18000\n",
            "   macro avg       0.91      0.91      0.91     18000\n",
            "weighted avg       0.91      0.91      0.91     18000\n",
            "\n"
          ]
        },
        {
          "output_type": "display_data",
          "data": {
            "image/png": "[encoded data removed]",
            "text/plain": [
              "<Figure size 576x360 with 2 Axes>"
            ]
          },
          "metadata": {
            "needs_background": "light"
          }
        }
      ],
      "source": [
        "#importing required functions\n",
        "from sklearn.metrics import classification_report\n",
        "from sklearn.metrics import confusion_matrix\n",
        "\n",
        "#Printing the classification report\n",
        "print(classification_report(y_test, test_pred))\n",
        "\n",
        "#Plotting the heatmap using confusion matrix\n",
        "cm = confusion_matrix(y_test, test_pred)\n",
        "plt.figure(figsize=(8,5))\n",
        "sns.heatmap(cm, annot=True,  fmt='.0f')\n",
        "plt.ylabel('Actual')\n",
        "plt.xlabel('Predicted')\n",
        "plt.show()"
      ]
    },
    {
      "cell_type": "markdown",
      "metadata": {
        "id": "DjErl4GA2u9s"
      },
      "source": [
        "#### **Observations:The second model's precision ranged from 0.89 to 0.94, recall ranged from 0.86 to 0.95, and f1 ranged from 0.89 to 0.93 giving very good scores across the board. The overall accuracy of 0.91 can likely be improved upon by creating a much more complicated model as evidenced by the complexity difference in the first model compared to the second model.  **"
      ]
    }
  ],
  "metadata": {
    "accelerator": "GPU",
    "colab": {
      "collapsed_sections": [
        "8z2Z7-OAs8QG",
        "C8U3DUa3eNsT",
        "8lsux2ZwyTTR",
        "kxODV6HKykuc",
        "Rn5IZYv-e2TC",
        "kzoyeXHOy80N",
        "YP92jacue2TE",
        "yH-gVrzuByNA",
        "Uw8pZcNwe2TG",
        "sVyQ9Gpge2TI",
        "lT6o3TIKuCtk",
        "Sr-bwBT2e2TJ",
        "aC5UbsqXe2TK",
        "8kuXx9Bvu00f",
        "yfZwC9OUe2TL",
        "yHDUEma0e2TM"
      ],
      "name": "RichardDaily_CNN.ipynb",
      "provenance": []
    },
    "kernelspec": {
      "display_name": "Python 3",
      "language": "python",
      "name": "python3"
    },
    "language_info": {
      "codemirror_mode": {
        "name": "ipython",
        "version": 3
      },
      "file_extension": ".py",
      "mimetype": "text/x-python",
      "name": "python",
      "nbconvert_exporter": "python",
      "pygments_lexer": "ipython3",
      "version": "3.8.8"
    }
  },
  "nbformat": 4,
  "nbformat_minor": 0
}